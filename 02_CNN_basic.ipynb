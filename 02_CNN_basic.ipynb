{
 "cells": [
  {
   "cell_type": "markdown",
   "metadata": {},
   "source": [
    "# Train a very simple CNN given two different datasets (fashionMNIST, liveness)\n",
    "\n",
    "- Read different dataset depending on the option (fashionMNIST, liveness)\n",
    "    - Define custom dataset first\n",
    "    - Explore how the dataset is made\n",
    "    - Make a train_loader\n",
    "    - Plot images, the whole bach of them\n",
    "- Define the model\n",
    "- Train with some kind of simple output\n",
    "- Eval with a confusion matrix or other metric"
   ]
  },
  {
   "cell_type": "code",
   "execution_count": 1,
   "metadata": {},
   "outputs": [
    {
     "name": "stderr",
     "output_type": "stream",
     "text": [
      "\u001b[34m\u001b[1mwandb\u001b[0m: Currently logged in as: \u001b[33mgfuhr2\u001b[0m (use `wandb login --relogin` to force relogin)\n"
     ]
    },
    {
     "data": {
      "text/html": [
       "wandb version 0.12.16 is available!  To upgrade, please run:\n",
       " $ pip install wandb --upgrade"
      ],
      "text/plain": [
       "<IPython.core.display.HTML object>"
      ]
     },
     "metadata": {},
     "output_type": "display_data"
    },
    {
     "data": {
      "text/html": [
       "Tracking run with wandb version 0.12.15"
      ],
      "text/plain": [
       "<IPython.core.display.HTML object>"
      ]
     },
     "metadata": {},
     "output_type": "display_data"
    },
    {
     "data": {
      "text/html": [
       "Run data is saved locally in <code>/mnt/data/projects/pytorch_experiments/wandb/run-20220506_213858-41xe3efq</code>"
      ],
      "text/plain": [
       "<IPython.core.display.HTML object>"
      ]
     },
     "metadata": {},
     "output_type": "display_data"
    },
    {
     "data": {
      "text/html": [
       "Syncing run <strong><a href=\"https://wandb.ai/gfuhr2/pytorch_experiments/runs/41xe3efq\" target=\"_blank\">wild-firebrand-1</a></strong> to <a href=\"https://wandb.ai/gfuhr2/pytorch_experiments\" target=\"_blank\">Weights & Biases</a> (<a href=\"https://wandb.me/run\" target=\"_blank\">docs</a>)<br/>"
      ],
      "text/plain": [
       "<IPython.core.display.HTML object>"
      ]
     },
     "metadata": {},
     "output_type": "display_data"
    },
    {
     "data": {
      "text/html": [
       "<button onClick=\"this.nextSibling.style.display='block';this.style.display='none';\">Display W&B run</button><iframe src=\"https://wandb.ai/gfuhr2/pytorch_experiments/runs/41xe3efq?jupyter=true\" style=\"border:none;width:100%;height:420px;display:none;\"></iframe>"
      ],
      "text/plain": [
       "<wandb.sdk.wandb_run.Run at 0x7ff74655cca0>"
      ]
     },
     "execution_count": 1,
     "metadata": {},
     "output_type": "execute_result"
    }
   ],
   "source": [
    "DATASET_OPTS = [\"fashionMNIST\", \"liveness\"]\n",
    "DATASET = DATASET_OPTS[0]\n",
    "\n",
    "import torch\n",
    "\n",
    "import torchvision\n",
    "import torchvision.transforms as transforms\n",
    "\n",
    "import wandb\n",
    "wandb.init(project=\"pytorch_experiments\", entity=\"gfuhr2\")"
   ]
  },
  {
   "cell_type": "markdown",
   "metadata": {
    "tags": []
   },
   "source": [
    "### Read different dataset depending on the option (fashionMNIST, liveness)"
   ]
  },
  {
   "cell_type": "markdown",
   "metadata": {},
   "source": [
    "- Define custom dataset first (in another py file)"
   ]
  },
  {
   "cell_type": "code",
   "execution_count": 2,
   "metadata": {},
   "outputs": [],
   "source": [
    "if DATASET == \"fashionMNIST\":\n",
    "    train_dataset = torchvision.datasets.FashionMNIST(\n",
    "        root=\"data/\",\n",
    "        train=True,\n",
    "        transform=transforms.ToTensor(),\n",
    "        download=True)\n",
    "    \n",
    "    val_dataset = torchvision.datasets.FashionMNIST(\n",
    "        root='data/',\n",
    "        train=False,\n",
    "        transform=transforms.ToTensor(),\n",
    "        download=True)\n",
    "else:\n",
    "    from liveness_simple_dataset import LivenessDataset\n",
    "    train_dataset = LivenessDataset(\n",
    "        root = \"/mnt/data/third_p_simple_dataset/casia/\"\n",
    "    )\n",
    "    val_dataset = LivenessDataset(\n",
    "        root = \"/mnt/data/third_p_simple_dataset/friends_in_film/\"\n",
    "    )\n",
    "    \n",
    "    "
   ]
  },
  {
   "cell_type": "code",
   "execution_count": 4,
   "metadata": {},
   "outputs": [
    {
     "name": "stdout",
     "output_type": "stream",
     "text": [
      "['__add__', '__class__', '__class_getitem__', '__delattr__', '__dict__', '__dir__', '__doc__', '__eq__', '__format__', '__ge__', '__getattribute__', '__getitem__', '__gt__', '__hash__', '__init__', '__init_subclass__', '__le__', '__len__', '__lt__', '__module__', '__ne__', '__new__', '__orig_bases__', '__parameters__', '__reduce__', '__reduce_ex__', '__repr__', '__setattr__', '__sizeof__', '__slots__', '__str__', '__subclasshook__', '__weakref__', '_check_exists', '_check_legacy_exist', '_format_transform_repr', '_is_protocol', '_load_data', '_load_legacy_data', '_repr_indent', 'class_to_idx', 'classes', 'data', 'download', 'extra_repr', 'mirrors', 'processed_folder', 'raw_folder', 'resources', 'root', 'target_transform', 'targets', 'test_data', 'test_file', 'test_labels', 'train', 'train_data', 'train_labels', 'training_file', 'transform', 'transforms']\n"
     ]
    }
   ],
   "source": [
    "print(dir(train_dataset))"
   ]
  },
  {
   "cell_type": "code",
   "execution_count": 5,
   "metadata": {},
   "outputs": [
    {
     "data": {
      "text/plain": [
       "['T-shirt/top',\n",
       " 'Trouser',\n",
       " 'Pullover',\n",
       " 'Dress',\n",
       " 'Coat',\n",
       " 'Sandal',\n",
       " 'Shirt',\n",
       " 'Sneaker',\n",
       " 'Bag',\n",
       " 'Ankle boot']"
      ]
     },
     "execution_count": 5,
     "metadata": {},
     "output_type": "execute_result"
    }
   ],
   "source": [
    "train_dataset.classes"
   ]
  },
  {
   "cell_type": "code",
   "execution_count": 6,
   "metadata": {},
   "outputs": [],
   "source": [
    "#train_dataset.data.shape # should not use anymore train_data nor test_data, thoser are deprecated"
   ]
  },
  {
   "cell_type": "code",
   "execution_count": 7,
   "metadata": {},
   "outputs": [
    {
     "name": "stdout",
     "output_type": "stream",
     "text": [
      "tensor([9, 0, 0,  ..., 3, 0, 5])\n"
     ]
    }
   ],
   "source": [
    "print(train_dataset.targets)"
   ]
  },
  {
   "cell_type": "code",
   "execution_count": 8,
   "metadata": {},
   "outputs": [
    {
     "data": {
      "text/plain": [
       "{'T-shirt/top': 0,\n",
       " 'Trouser': 1,\n",
       " 'Pullover': 2,\n",
       " 'Dress': 3,\n",
       " 'Coat': 4,\n",
       " 'Sandal': 5,\n",
       " 'Shirt': 6,\n",
       " 'Sneaker': 7,\n",
       " 'Bag': 8,\n",
       " 'Ankle boot': 9}"
      ]
     },
     "execution_count": 8,
     "metadata": {},
     "output_type": "execute_result"
    }
   ],
   "source": [
    "train_dataset.class_to_idx"
   ]
  },
  {
   "cell_type": "code",
   "execution_count": 9,
   "metadata": {},
   "outputs": [
    {
     "name": "stdout",
     "output_type": "stream",
     "text": [
      "60000\n",
      "10000\n"
     ]
    }
   ],
   "source": [
    "print(len(train_dataset))\n",
    "print(len(val_dataset))"
   ]
  },
  {
   "cell_type": "markdown",
   "metadata": {},
   "source": [
    "- Make a train_loader\n",
    "- Plot images, the whole bach of them"
   ]
  },
  {
   "cell_type": "code",
   "execution_count": 3,
   "metadata": {},
   "outputs": [],
   "source": [
    "train_loader = torch.utils.data.DataLoader(dataset=train_dataset,\n",
    "                                              batch_size=32,\n",
    "                                              shuffle=True)\n",
    "\n",
    "val_loader = torch.utils.data.DataLoader(dataset=val_dataset,\n",
    "                                              batch_size=32,\n",
    "                                              shuffle=True)"
   ]
  },
  {
   "cell_type": "code",
   "execution_count": 5,
   "metadata": {},
   "outputs": [],
   "source": [
    "import matplotlib.pyplot as plt\n",
    "%matplotlib inline\n",
    "\n",
    "# this function will be a life saver\n",
    "def plot_image_mosaic(images, labels = None, n_columns = 8):\n",
    "    fig = plt.figure(figsize=(20,16))\n",
    "    fig.tight_layout()\n",
    "\n",
    "    #fig.subplots_adjust(bottom=4) # or whatever\n",
    "\n",
    "    for i, image in enumerate(images):\n",
    "        ax = plt.subplot(int(len(images) / n_columns + 1), n_columns, i + 1)\n",
    "        if labels is not None:\n",
    "            ax.title.set_text(labels[i])\n",
    "        if image.shape[2] == 1:\n",
    "            plt.imshow(image, cmap=\"gray\")\n",
    "        else:\n",
    "            plt.imshow(image)"
   ]
  },
  {
   "cell_type": "code",
   "execution_count": 7,
   "metadata": {},
   "outputs": [
    {
     "name": "stdout",
     "output_type": "stream",
     "text": [
      "tensor([4, 9, 8, 7, 1, 7, 1, 4, 5, 4, 2, 9, 1, 5, 4, 7, 8, 5, 4, 3, 5, 2, 4, 6,\n",
      "        5, 0, 8, 7, 8, 3, 1, 9])\n"
     ]
    },
    {
     "data": {
      "image/png": "[encoded data removed]",
      "text/plain": [
       "<Figure size 1440x1152 with 32 Axes>"
      ]
     },
     "metadata": {
      "needs_background": "light"
     },
     "output_type": "display_data"
    }
   ],
   "source": [
    "for inputs, targets in train_loader:\n",
    "    batch_images = []\n",
    "    for img in inputs:\n",
    "        # its kind of annoying to convert to numpy back.\n",
    "        bimg = img.permute(1, 2, 0).numpy() # channel first to channel last\n",
    "        bimg = (bimg*255).astype(\"uint8\")\n",
    "        \n",
    "    batch_images = [img.permute(1, 2, 0).numpy() for img in inputs]\n",
    "    print(targets)\n",
    "    #break\n",
    "    batch_labels = [train_dataset.classes[int(y)] for y in targets]\n",
    "    #for img, y in zip(inputs, targets):       \n",
    "    #    print(transforms.ToPILImage()(img))\n",
    "    #    print(y)\n",
    "    #    break\n",
    "    plot_image_mosaic(batch_images, batch_labels)\n",
    "    break\n"
   ]
  },
  {
   "cell_type": "markdown",
   "metadata": {},
   "source": [
    "### Define the model"
   ]
  },
  {
   "cell_type": "code",
   "execution_count": 13,
   "metadata": {},
   "outputs": [
    {
     "name": "stdout",
     "output_type": "stream",
     "text": [
      "example.shape torch.Size([1, 28, 28])\n",
      "out.datatype torch.float32\n",
      "out tensor([[-0.0063, -0.0172,  0.0046, -0.0009,  0.0679,  0.0138, -0.0383, -0.0089,\n",
      "          0.0135,  0.0099]], grad_fn=<AddmmBackward0>)\n",
      "out.shape torch.Size([1, 10])\n",
      "labels.dtype torch.int64\n",
      "In: torch.Size([1, 1, 28, 28]) -> Out: torch.Size([1, 32, 13, 13])\n",
      "In: torch.Size([1, 32, 13, 13]) -> Out: torch.Size([1, 32, 13, 13])\n",
      "In: torch.Size([1, 32, 13, 13]) -> Out: torch.Size([1, 64, 6, 6])\n",
      "In: torch.Size([1, 64, 6, 6]) -> Out: torch.Size([1, 64, 6, 6])\n",
      "In: torch.Size([1, 64, 6, 6]) -> Out: torch.Size([1, 128, 2, 2])\n",
      "In: torch.Size([1, 128, 2, 2]) -> Out: torch.Size([1, 128, 2, 2])\n",
      "In: torch.Size([1, 128, 2, 2]) -> Out: torch.Size([1, 128, 2, 2])\n"
     ]
    }
   ],
   "source": [
    "import torch.nn as nn\n",
    "\n",
    "\n",
    "class CNN_Basic(nn.Module):\n",
    "    \n",
    "    def __init__(self, K, n_in_channels = 1):\n",
    "        super(CNN_Basic, self).__init__()\n",
    "        \n",
    "        # TODO, how to define in_channels according to the image no. channels?\n",
    "        self.conv_layers = nn.Sequential(\n",
    "            nn.Conv2d(in_channels=n_in_channels, out_channels=32, kernel_size=3, stride=2), # 32 filters, dont need to define w, h\n",
    "            nn.ReLU(),\n",
    "            nn.Conv2d(in_channels=32, out_channels=64, kernel_size=3, stride=2), # 32 filters\n",
    "            nn.ReLU(),\n",
    "            nn.Conv2d(in_channels=64, out_channels=128, kernel_size=3, stride=2), # 32 filters\n",
    "            nn.AdaptiveAvgPool2d((2,2)),\n",
    "            nn.ReLU()\n",
    "        )\n",
    "        \n",
    "        # TODO: where is the pooling?\n",
    "        self.dense_layers = nn.Sequential(\n",
    "            nn.Dropout(0.2),\n",
    "            nn.Linear(128 * 2 * 2, 512),\n",
    "            nn.ReLU(),\n",
    "            nn.Dropout(0.2),\n",
    "            nn.Linear(512, K)\n",
    "        )\n",
    "        \n",
    "        \n",
    "    def forward(self, X):\n",
    "        out = self.conv_layers(X)\n",
    "        #print(\"out.size before flatten\", out.size)\n",
    "        #print(\"out.shape before flatten\", out.shape)\n",
    "        #print(\"out 0\", out.size(0))\n",
    "        # NOTE: size is an alias for shape, and 0 is the batch size.\n",
    "        out = out.view(out.size(0), -1) # flatten any 2d tensor\n",
    "        out = self.dense_layers(out)\n",
    "        return out\n",
    "   \n",
    "\n",
    "model = CNN_Basic(len(train_dataset.classes), 1 if DATASET == \"fashionMNIST\" else 3)\n",
    "for images, labels in train_loader:\n",
    "    #example = next(iter(train_loader))[0]\n",
    "    example = images[0]\n",
    "    print(\"example.shape\", example.shape)\n",
    "    out_example = model.forward(example[None,...])\n",
    "    print(\"out.datatype\", out_example.dtype)\n",
    "    print(\"out\", out_example)\n",
    "    print(\"out.shape\", out_example.shape)\n",
    "    \n",
    "    print(\"labels.dtype\", labels.dtype)\n",
    "    # lets see the transformation of input at each layer\n",
    "    x = example.clone().detach()\n",
    "    x = x[None,...]\n",
    "    for layer in model.conv_layers:\n",
    "        bef_shape = x.shape\n",
    "        x = layer(x)\n",
    "        print(f\"In: {bef_shape} -> Out: {x.shape}\")\n",
    "    break"
   ]
  },
  {
   "cell_type": "markdown",
   "metadata": {},
   "source": [
    "### TODO\n",
    "- how to fix visualization for float images in Dataset (make work for gray, color also); DONE\n",
    "- any way to compute the linear input size automatically; yes, I need to use adpativePooling\n",
    "- lets train. write as you think it is first;"
   ]
  },
  {
   "cell_type": "markdown",
   "metadata": {},
   "source": [
    "### Train with some kind of simple output\n"
   ]
  },
  {
   "cell_type": "code",
   "execution_count": 14,
   "metadata": {},
   "outputs": [
    {
     "name": "stdout",
     "output_type": "stream",
     "text": [
      "cuda:0\n",
      "Elapsed time: 2.7657368183135986s\n"
     ]
    }
   ],
   "source": [
    "import time\n",
    "\n",
    "# NOTE: important, move the model to GPU if available, takes some time.\n",
    "device = torch.device(\"cuda:0\" if torch.cuda.is_available() else \"cpu\")\n",
    "print(device)\n",
    "\n",
    "start = time.time()\n",
    "model.to(device)\n",
    "print(f\"Elapsed time: {(time.time() - start)}s\")"
   ]
  },
  {
   "cell_type": "code",
   "execution_count": 15,
   "metadata": {},
   "outputs": [
    {
     "data": {
      "text/plain": [
       "[]"
      ]
     },
     "execution_count": 15,
     "metadata": {},
     "output_type": "execute_result"
    }
   ],
   "source": [
    "criterion = nn.CrossEntropyLoss()\n",
    "# optimizer = torch.optim.SGD(model.parameters(), lr=0.05)\n",
    "optimizer = torch.optim.Adam(model.parameters(), lr=1e-3, weight_decay=0)\n",
    "wandb.watch(model)\n"
   ]
  },
  {
   "cell_type": "code",
   "execution_count": 16,
   "metadata": {},
   "outputs": [
    {
     "name": "stdout",
     "output_type": "stream",
     "text": [
      "Epoch 0/100, train loss: 0.569, val loss: 0.436, acc: 83.8%\n",
      "Epoch 1/100, train loss: 0.393, val loss: 0.389, acc: 85.2%\n",
      "Epoch 2/100, train loss: 0.343, val loss: 0.350, acc: 86.6%\n",
      "Epoch 3/100, train loss: 0.309, val loss: 0.325, acc: 88.1%\n",
      "Epoch 4/100, train loss: 0.283, val loss: 0.314, acc: 88.4%\n",
      "Epoch 5/100, train loss: 0.262, val loss: 0.323, acc: 88.4%\n",
      "Epoch 6/100, train loss: 0.243, val loss: 0.312, acc: 88.8%\n",
      "Epoch 7/100, train loss: 0.226, val loss: 0.304, acc: 89.7%\n",
      "Epoch 8/100, train loss: 0.213, val loss: 0.292, acc: 90.1%\n",
      "Epoch 9/100, train loss: 0.200, val loss: 0.311, acc: 89.2%\n",
      "Epoch 10/100, train loss: 0.194, val loss: 0.295, acc: 90.2%\n",
      "Epoch 11/100, train loss: 0.181, val loss: 0.326, acc: 88.9%\n",
      "Epoch 12/100, train loss: 0.174, val loss: 0.308, acc: 90.1%\n",
      "Epoch 13/100, train loss: 0.165, val loss: 0.317, acc: 90.1%\n",
      "Epoch 14/100, train loss: 0.156, val loss: 0.324, acc: 90.3%\n",
      "Epoch 15/100, train loss: 0.155, val loss: 0.321, acc: 90.1%\n",
      "Epoch 16/100, train loss: 0.144, val loss: 0.338, acc: 90.3%\n",
      "Epoch 17/100, train loss: 0.140, val loss: 0.344, acc: 89.8%\n",
      "Epoch 18/100, train loss: 0.136, val loss: 0.349, acc: 90.3%\n",
      "Epoch 19/100, train loss: 0.130, val loss: 0.344, acc: 90.1%\n",
      "Epoch 20/100, train loss: 0.126, val loss: 0.366, acc: 90.0%\n",
      "Epoch 21/100, train loss: 0.122, val loss: 0.376, acc: 89.7%\n",
      "Epoch 22/100, train loss: 0.120, val loss: 0.379, acc: 89.7%\n",
      "Epoch 23/100, train loss: 0.113, val loss: 0.415, acc: 89.8%\n",
      "Epoch 24/100, train loss: 0.112, val loss: 0.400, acc: 90.0%\n",
      "Epoch 25/100, train loss: 0.110, val loss: 0.413, acc: 89.6%\n",
      "Epoch 26/100, train loss: 0.105, val loss: 0.397, acc: 90.1%\n",
      "Epoch 27/100, train loss: 0.103, val loss: 0.410, acc: 90.1%\n",
      "Epoch 28/100, train loss: 0.105, val loss: 0.414, acc: 89.9%\n",
      "Epoch 29/100, train loss: 0.101, val loss: 0.402, acc: 89.9%\n",
      "Epoch 30/100, train loss: 0.100, val loss: 0.417, acc: 90.0%\n",
      "Epoch 31/100, train loss: 0.099, val loss: 0.404, acc: 90.0%\n",
      "Epoch 32/100, train loss: 0.098, val loss: 0.425, acc: 89.9%\n",
      "Epoch 33/100, train loss: 0.094, val loss: 0.432, acc: 89.7%\n",
      "Epoch 34/100, train loss: 0.094, val loss: 0.441, acc: 90.2%\n",
      "Epoch 35/100, train loss: 0.090, val loss: 0.447, acc: 89.8%\n",
      "Epoch 36/100, train loss: 0.087, val loss: 0.456, acc: 89.9%\n",
      "Epoch 37/100, train loss: 0.095, val loss: 0.469, acc: 89.6%\n",
      "Epoch 38/100, train loss: 0.087, val loss: 0.464, acc: 89.9%\n",
      "Epoch 39/100, train loss: 0.089, val loss: 0.466, acc: 89.9%\n",
      "Epoch 40/100, train loss: 0.083, val loss: 0.520, acc: 89.4%\n",
      "Epoch 41/100, train loss: 0.084, val loss: 0.504, acc: 90.0%\n",
      "Epoch 42/100, train loss: 0.083, val loss: 0.485, acc: 89.8%\n",
      "Epoch 43/100, train loss: 0.085, val loss: 0.486, acc: 89.5%\n",
      "Epoch 44/100, train loss: 0.083, val loss: 0.484, acc: 89.7%\n",
      "Epoch 45/100, train loss: 0.082, val loss: 0.484, acc: 89.7%\n",
      "Epoch 46/100, train loss: 0.079, val loss: 0.505, acc: 90.2%\n",
      "Epoch 47/100, train loss: 0.078, val loss: 0.519, acc: 90.1%\n",
      "Epoch 48/100, train loss: 0.078, val loss: 0.537, acc: 90.2%\n",
      "Epoch 49/100, train loss: 0.077, val loss: 0.528, acc: 90.0%\n",
      "Epoch 50/100, train loss: 0.078, val loss: 0.555, acc: 89.6%\n",
      "Epoch 51/100, train loss: 0.074, val loss: 0.503, acc: 89.8%\n",
      "Epoch 52/100, train loss: 0.075, val loss: 0.532, acc: 90.0%\n",
      "Epoch 53/100, train loss: 0.072, val loss: 0.569, acc: 89.6%\n",
      "Epoch 54/100, train loss: 0.077, val loss: 0.545, acc: 89.7%\n",
      "Epoch 55/100, train loss: 0.073, val loss: 0.525, acc: 89.7%\n",
      "Epoch 56/100, train loss: 0.073, val loss: 0.557, acc: 89.9%\n",
      "Epoch 57/100, train loss: 0.075, val loss: 0.568, acc: 89.5%\n",
      "Epoch 58/100, train loss: 0.069, val loss: 0.552, acc: 89.8%\n",
      "Epoch 59/100, train loss: 0.075, val loss: 0.540, acc: 90.2%\n",
      "Epoch 60/100, train loss: 0.071, val loss: 0.565, acc: 89.9%\n",
      "Epoch 61/100, train loss: 0.070, val loss: 0.577, acc: 89.8%\n",
      "Epoch 62/100, train loss: 0.074, val loss: 0.573, acc: 90.0%\n",
      "Epoch 63/100, train loss: 0.070, val loss: 0.586, acc: 89.9%\n",
      "Epoch 64/100, train loss: 0.072, val loss: 0.604, acc: 90.0%\n",
      "Epoch 65/100, train loss: 0.070, val loss: 0.575, acc: 90.0%\n",
      "Epoch 66/100, train loss: 0.070, val loss: 0.591, acc: 89.8%\n",
      "Epoch 67/100, train loss: 0.067, val loss: 0.582, acc: 89.5%\n",
      "Epoch 68/100, train loss: 0.072, val loss: 0.580, acc: 89.8%\n",
      "Epoch 69/100, train loss: 0.068, val loss: 0.612, acc: 89.6%\n",
      "Epoch 70/100, train loss: 0.069, val loss: 0.586, acc: 90.0%\n",
      "Epoch 71/100, train loss: 0.065, val loss: 0.630, acc: 89.9%\n",
      "Epoch 72/100, train loss: 0.065, val loss: 0.609, acc: 89.7%\n",
      "Epoch 73/100, train loss: 0.068, val loss: 0.570, acc: 89.7%\n",
      "Epoch 74/100, train loss: 0.066, val loss: 0.626, acc: 90.2%\n",
      "Epoch 75/100, train loss: 0.069, val loss: 0.608, acc: 89.8%\n",
      "Epoch 76/100, train loss: 0.066, val loss: 0.592, acc: 89.8%\n",
      "Epoch 77/100, train loss: 0.068, val loss: 0.638, acc: 89.8%\n",
      "Epoch 78/100, train loss: 0.064, val loss: 0.588, acc: 89.6%\n",
      "Epoch 79/100, train loss: 0.067, val loss: 0.615, acc: 89.9%\n",
      "Epoch 80/100, train loss: 0.065, val loss: 0.632, acc: 89.3%\n",
      "Epoch 81/100, train loss: 0.066, val loss: 0.583, acc: 89.7%\n",
      "Epoch 82/100, train loss: 0.065, val loss: 0.632, acc: 89.9%\n",
      "Epoch 83/100, train loss: 0.061, val loss: 0.635, acc: 90.1%\n",
      "Epoch 84/100, train loss: 0.068, val loss: 0.624, acc: 89.7%\n",
      "Epoch 85/100, train loss: 0.061, val loss: 0.626, acc: 89.8%\n",
      "Epoch 86/100, train loss: 0.063, val loss: 0.653, acc: 89.8%\n",
      "Epoch 87/100, train loss: 0.058, val loss: 0.628, acc: 89.9%\n",
      "Epoch 88/100, train loss: 0.063, val loss: 0.653, acc: 89.6%\n",
      "Epoch 89/100, train loss: 0.065, val loss: 0.607, acc: 89.7%\n",
      "Epoch 90/100, train loss: 0.064, val loss: 0.653, acc: 89.9%\n",
      "Epoch 91/100, train loss: 0.057, val loss: 0.669, acc: 89.8%\n",
      "Epoch 92/100, train loss: 0.066, val loss: 0.647, acc: 89.9%\n",
      "Epoch 93/100, train loss: 0.059, val loss: 0.696, acc: 89.4%\n",
      "Epoch 94/100, train loss: 0.061, val loss: 0.652, acc: 89.5%\n",
      "Epoch 95/100, train loss: 0.060, val loss: 0.666, acc: 89.9%\n",
      "Epoch 96/100, train loss: 0.063, val loss: 0.678, acc: 90.1%\n",
      "Epoch 97/100, train loss: 0.061, val loss: 0.732, acc: 89.9%\n",
      "Epoch 98/100, train loss: 0.064, val loss: 0.660, acc: 89.4%\n",
      "Epoch 99/100, train loss: 0.060, val loss: 0.687, acc: 89.7%\n"
     ]
    }
   ],
   "source": [
    "import numpy as np\n",
    "\n",
    "n_epochs = 100\n",
    "\n",
    "train_losses = np.zeros(n_epochs)\n",
    "\n",
    "val_losses = np.zeros(n_epochs) \n",
    "val_accuracies = np.zeros(n_epochs)\n",
    "\n",
    "all_train_losses = []\n",
    "for i in range(n_epochs):\n",
    "    # model.train() tells your model that you are training the model. So effectively layers \n",
    "    # like dropout, batchnorm etc. which behave different on the train and test procedures \n",
    "    # know what is going on and hence can behave accordingly.\n",
    "    model.train()\n",
    "    \n",
    "    this_train_losses = []\n",
    "    for batch_idx, (inputs, targets) in enumerate(train_loader): # for each batch!\n",
    "        # needs to move data to GPU myself\n",
    "        inputs, targets = inputs.to(device), targets.to(device)\n",
    "        \n",
    "        optimizer.zero_grad() # each batch is new grad for the parameters (this is not an RNN)\n",
    "        \n",
    "        # foward pass\n",
    "        outputs = model(inputs)\n",
    "        loss = criterion(outputs, targets)\n",
    "        \n",
    "        # computer grads and make a gradient descent\n",
    "        loss.backward() # compute gradients\n",
    "        optimizer.step() # use gradients to updata parameters\n",
    "        \n",
    "        this_train_losses.append(loss.item())\n",
    "        \n",
    "        all_train_losses.append([i, batch_idx])\n",
    "        \n",
    "    # I got every single train loss for each batch, now I should average them\n",
    "    # to see how Im going\n",
    "    avg_train_loss = np.mean(this_train_losses)\n",
    "    train_losses[i] = avg_train_loss\n",
    "    \n",
    "    # evaluate model\n",
    "    model.eval()\n",
    "    \n",
    "    this_val_losses = []\n",
    "    this_val_correct = 0\n",
    "    for inputs, targets in val_loader:\n",
    "        inputs, targets = inputs.to(device), targets.to(device)\n",
    "        outputs = model(inputs)\n",
    "        \n",
    "        loss = criterion(outputs, targets)\n",
    "        \n",
    "        probs = torch.softmax(outputs, dim=1)\n",
    "        winners = probs.argmax(dim=1)\n",
    "       \n",
    "        this_val_correct += (targets == winners).float().sum()\n",
    "        this_val_losses.append(loss.item())\n",
    "\n",
    "        \n",
    "    avg_val_loss = np.mean(this_val_losses)\n",
    "    val_losses[i] = avg_val_loss\n",
    "    \n",
    "    val_accuracy = 100*this_val_correct / len(val_dataset)\n",
    "    val_accuracies[i] = val_accuracy\n",
    "        \n",
    "    print(f\"Epoch {i}/{n_epochs}, train loss: {avg_train_loss:.3f}, val loss: {avg_val_loss:.3f}, acc: {val_accuracy:.1f}%\")\n",
    "    \n",
    "    wandb.log({\n",
    "        \"train_loss\": avg_train_loss,\n",
    "        \"val_loss\": avg_val_loss,\n",
    "        \"val_acc\": val_accuracy,\n",
    "    })\n",
    "\n"
   ]
  },
  {
   "cell_type": "markdown",
   "metadata": {},
   "source": [
    "#### TODO: now, its only going to get prettier\n",
    "- make eval portion to compute loss and accuracy of validation; DONE\n",
    "- make that the CNN model uses AdaptivePooling so that I dont need to change model, for different sizes; DONE\n",
    "- should pass as parameters number of channels for it; DONE\n",
    "- should plot, overlapping in the left, the train loss and val loss, in the right, val accuracy;"
   ]
  },
  {
   "cell_type": "code",
   "execution_count": 17,
   "metadata": {},
   "outputs": [
    {
     "data": {
      "text/plain": [
       "<AxesSubplot:>"
      ]
     },
     "execution_count": 17,
     "metadata": {},
     "output_type": "execute_result"
    },
    {
     "data": {
      "image/png": "[encoded data removed]",
      "text/plain": [
       "<Figure size 1008x432 with 2 Axes>"
      ]
     },
     "metadata": {
      "needs_background": "light"
     },
     "output_type": "display_data"
    }
   ],
   "source": [
    "import seaborn as sns\n",
    "import matplotlib.pyplot as plt\n",
    "\n",
    "\n",
    "fig, ax = plt.subplots(1,2, figsize=(14,6))\n",
    "sns.lineplot(x=list(range(n_epochs)), y=train_losses, label=\"Train loss\", ax=ax[0])\n",
    "sns.lineplot(x=list(range(n_epochs)), y=val_losses, label=\"Val loss\", ax=ax[0])\n",
    "\n",
    "sns.lineplot(x=list(range(n_epochs)), y=val_accuracies, label=\"Val acc\", color=\"orange\", ax=ax[1])\n"
   ]
  },
  {
   "cell_type": "code",
   "execution_count": 18,
   "metadata": {},
   "outputs": [
    {
     "data": {
      "text/plain": [
       "array([83.79000092, 85.23999786, 86.61000061, 88.08999634, 88.40999603,\n",
       "       88.36999512, 88.83999634, 89.68999481, 90.06999969, 89.16999817,\n",
       "       90.19999695, 88.88999939, 90.11000061, 90.13999939, 90.3299942 ,\n",
       "       90.06999969, 90.25999451, 89.77999878, 90.29999542, 90.11000061,\n",
       "       89.97999573, 89.72999573, 89.65999603, 89.81999969, 90.02999878,\n",
       "       89.59999847, 90.13999939, 90.09999847, 89.91999817, 89.88999939,\n",
       "       89.97999573, 89.98999786, 89.90000153, 89.68000031, 90.15999603,\n",
       "       89.75      , 89.94999695, 89.61000061, 89.88999939, 89.91999817,\n",
       "       89.37999725, 90.04000092, 89.77999878, 89.48999786, 89.70999908,\n",
       "       89.65999603, 90.18000031, 90.13999939, 90.15999603, 89.95999908,\n",
       "       89.62999725, 89.8299942 , 90.02999878, 89.62999725, 89.73999786,\n",
       "       89.68999481, 89.94999695, 89.48999786, 89.81999969, 90.25      ,\n",
       "       89.94999695, 89.8299942 , 90.04999542, 89.88999939, 89.97000122,\n",
       "       90.01999664, 89.79999542, 89.47999573, 89.77999878, 89.61000061,\n",
       "       89.98999786, 89.91999817, 89.72000122, 89.70999908, 90.20999908,\n",
       "       89.81999969, 89.8299942 , 89.75      , 89.5799942 , 89.93999481,\n",
       "       89.27999878, 89.72999573, 89.87999725, 90.08999634, 89.73999786,\n",
       "       89.75999451, 89.76999664, 89.87999725, 89.59999847, 89.68000031,\n",
       "       89.87999725, 89.81999969, 89.88999939, 89.38999939, 89.47999573,\n",
       "       89.91999817, 90.13999939, 89.91999817, 89.44999695, 89.69999695])"
      ]
     },
     "execution_count": 18,
     "metadata": {},
     "output_type": "execute_result"
    }
   ],
   "source": [
    "val_accuracies"
   ]
  },
  {
   "cell_type": "code",
   "execution_count": null,
   "metadata": {},
   "outputs": [],
   "source": []
  },
  {
   "cell_type": "code",
   "execution_count": null,
   "metadata": {},
   "outputs": [],
   "source": []
  },
  {
   "cell_type": "code",
   "execution_count": null,
   "metadata": {},
   "outputs": [],
   "source": []
  }
 ],
 "metadata": {
  "kernelspec": {
   "display_name": "Python 3 (ipykernel)",
   "language": "python",
   "name": "python3"
  },
  "language_info": {
   "codemirror_mode": {
    "name": "ipython",
    "version": 3
   },
   "file_extension": ".py",
   "mimetype": "text/x-python",
   "name": "python",
   "nbconvert_exporter": "python",
   "pygments_lexer": "ipython3",
   "version": "3.10.4"
  }
 },
 "nbformat": 4,
 "nbformat_minor": 4
}
